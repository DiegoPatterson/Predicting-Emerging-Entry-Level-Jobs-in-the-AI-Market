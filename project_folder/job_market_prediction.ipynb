{
 "cells": [
  {
   "cell_type": "markdown",
   "id": "0938d84c",
   "metadata": {},
   "source": [
    "## **Section 1: Importing Data for Use** ##"
   ]
  },
  {
   "cell_type": "code",
   "execution_count": 1,
   "id": "18e747aa",
   "metadata": {},
   "outputs": [],
   "source": [
    "import pandas as pd\n",
    "import numpy as np\n",
    "from sklearn.model_selection import train_test_split\n",
    "import matplotlib.pyplot as plt\n",
    "import seaborn as sns\n"
   ]
  },
  {
   "cell_type": "markdown",
   "id": "08fa37d7",
   "metadata": {},
   "source": [
    "## **Section 2: Load and Explore Data** ##"
   ]
  },
  {
   "cell_type": "code",
   "execution_count": 8,
   "id": "07a61cd8",
   "metadata": {},
   "outputs": [
    {
     "name": "stdout",
     "output_type": "stream",
     "text": [
      "   job_id              company_name    industry                 job_title  \\\n",
      "0       1           Foster and Sons  Healthcare              Data Analyst   \n",
      "1       2   Boyd, Myers and Ramirez        Tech  Computer Vision Engineer   \n",
      "2       3                  King Inc        Tech          Quant Researcher   \n",
      "3       4  Cooper, Archer and Lynch        Tech        AI Product Manager   \n",
      "4       5                  Hall LLC     Finance            Data Scientist   \n",
      "\n",
      "                                     skills_required experience_level  \\\n",
      "0  NumPy, Reinforcement Learning, PyTorch, Scikit...              Mid   \n",
      "1                    Scikit-learn, CUDA, SQL, Pandas           Senior   \n",
      "2          MLflow, FastAPI, Azure, PyTorch, SQL, GCP            Entry   \n",
      "3       Scikit-learn, C++, Pandas, LangChain, AWS, R              Mid   \n",
      "4                    Excel, Keras, SQL, Hugging Face           Senior   \n",
      "\n",
      "  employment_type               location salary_range_usd posted_date  \\\n",
      "0       Full-time          Tracybury, AR     92860-109598  2025-08-20   \n",
      "1       Full-time         Lake Scott, CU     78523-144875  2024-03-22   \n",
      "2       Full-time         East Paige, CM    124496-217204  2025-09-18   \n",
      "3       Full-time          Perezview, FI     50908-123743  2024-05-08   \n",
      "4        Contract  North Desireeland, NE     98694-135413  2025-02-24   \n",
      "\n",
      "  company_size                  tools_preferred  \n",
      "0        Large                  KDB+, LangChain  \n",
      "1        Large        FastAPI, KDB+, TensorFlow  \n",
      "2        Large  BigQuery, PyTorch, Scikit-learn  \n",
      "3        Large     TensorFlow, BigQuery, MLflow  \n",
      "4        Large               PyTorch, LangChain  \n",
      "<class 'pandas.core.frame.DataFrame'>\n",
      "RangeIndex: 2000 entries, 0 to 1999\n",
      "Data columns (total 12 columns):\n",
      " #   Column            Non-Null Count  Dtype \n",
      "---  ------            --------------  ----- \n",
      " 0   job_id            2000 non-null   int64 \n",
      " 1   company_name      2000 non-null   object\n",
      " 2   industry          2000 non-null   object\n",
      " 3   job_title         2000 non-null   object\n",
      " 4   skills_required   2000 non-null   object\n",
      " 5   experience_level  2000 non-null   object\n",
      " 6   employment_type   2000 non-null   object\n",
      " 7   location          2000 non-null   object\n",
      " 8   salary_range_usd  2000 non-null   object\n",
      " 9   posted_date       2000 non-null   object\n",
      " 10  company_size      2000 non-null   object\n",
      " 11  tools_preferred   2000 non-null   object\n",
      "dtypes: int64(1), object(11)\n",
      "memory usage: 187.6+ KB\n",
      "None\n",
      "job_id              0\n",
      "company_name        0\n",
      "industry            0\n",
      "job_title           0\n",
      "skills_required     0\n",
      "experience_level    0\n",
      "employment_type     0\n",
      "location            0\n",
      "salary_range_usd    0\n",
      "posted_date         0\n",
      "company_size        0\n",
      "tools_preferred     0\n",
      "dtype: int64\n"
     ]
    }
   ],
   "source": [
    "## Load CSV With Pandas and print head ##\n",
    "df = pd.read_csv('ai_job_market.csv')\n",
    "print(df.head())"
   ]
  },
  {
   "cell_type": "code",
   "execution_count": 9,
   "id": "222361ba",
   "metadata": {},
   "outputs": [
    {
     "name": "stdout",
     "output_type": "stream",
     "text": [
      "<class 'pandas.core.frame.DataFrame'>\n",
      "RangeIndex: 2000 entries, 0 to 1999\n",
      "Data columns (total 12 columns):\n",
      " #   Column            Non-Null Count  Dtype \n",
      "---  ------            --------------  ----- \n",
      " 0   job_id            2000 non-null   int64 \n",
      " 1   company_name      2000 non-null   object\n",
      " 2   industry          2000 non-null   object\n",
      " 3   job_title         2000 non-null   object\n",
      " 4   skills_required   2000 non-null   object\n",
      " 5   experience_level  2000 non-null   object\n",
      " 6   employment_type   2000 non-null   object\n",
      " 7   location          2000 non-null   object\n",
      " 8   salary_range_usd  2000 non-null   object\n",
      " 9   posted_date       2000 non-null   object\n",
      " 10  company_size      2000 non-null   object\n",
      " 11  tools_preferred   2000 non-null   object\n",
      "dtypes: int64(1), object(11)\n",
      "memory usage: 187.6+ KB\n",
      "None\n",
      "job_id              0\n",
      "company_name        0\n",
      "industry            0\n",
      "job_title           0\n",
      "skills_required     0\n",
      "experience_level    0\n",
      "employment_type     0\n",
      "location            0\n",
      "salary_range_usd    0\n",
      "posted_date         0\n",
      "company_size        0\n",
      "tools_preferred     0\n",
      "dtype: int64\n"
     ]
    }
   ],
   "source": [
    "## Show values and data types ##\n",
    "print(df.info())\n",
    "print(df.isnull().sum())"
   ]
  },
  {
   "cell_type": "code",
   "execution_count": 15,
   "id": "82812258",
   "metadata": {},
   "outputs": [
    {
     "name": "stdout",
     "output_type": "stream",
     "text": [
      "\n",
      "==================================================\n",
      "Value counts for: experience_level\n",
      "==================================================\n",
      "experience_level\n",
      "Entry     702\n",
      "Mid       668\n",
      "Senior    630\n",
      "Name: count, dtype: int64\n",
      "\n",
      "Unique values: 3\n",
      "\n",
      "==================================================\n",
      "Value counts for: location\n",
      "==================================================\n",
      "location\n",
      "Tracybury, AR             1\n",
      "Lake Scott, CU            1\n",
      "East Paige, CM            1\n",
      "Perezview, FI             1\n",
      "North Desireeland, NE     1\n",
      "                         ..\n",
      "Washingtonmouth, SD       1\n",
      "Joshuafort, ZA            1\n",
      "West Brittanyburgh, CG    1\n",
      "Anthonyshire, OM          1\n",
      "Benjaminview, NE          1\n",
      "Name: count, Length: 2000, dtype: int64\n",
      "\n",
      "Unique values: 2000\n",
      "\n",
      "==================================================\n",
      "Value counts for: employment_type\n",
      "==================================================\n",
      "employment_type\n",
      "Internship    574\n",
      "Full-time     509\n",
      "Contract      465\n",
      "Remote        452\n",
      "Name: count, dtype: int64\n",
      "\n",
      "Unique values: 4\n",
      "\n",
      "==================================================\n",
      "Value counts for: industry\n",
      "==================================================\n",
      "industry\n",
      "Automotive    300\n",
      "Education     294\n",
      "Retail        293\n",
      "E-commerce    291\n",
      "Finance       279\n",
      "Tech          274\n",
      "Healthcare    269\n",
      "Name: count, dtype: int64\n",
      "\n",
      "Unique values: 7\n"
     ]
    }
   ],
   "source": [
    "## explore categorical data ##\n",
    "# Focus on key categorical columns for analysis\n",
    "categorical_columns = [\"experience_level\", \"location\", \"employment_type\", \"industry\"]\n",
    "\n",
    "for col in categorical_columns:\n",
    "    print(f\"\\n{'='*50}\")\n",
    "    print(f\"Value counts for: {col}\")\n",
    "    print(f\"{'='*50}\")\n",
    "    print(df[col].value_counts())\n",
    "    print(f\"\\nUnique values: {df[col].nunique()}\")\n"
   ]
  },
  {
   "cell_type": "markdown",
   "id": "86127038",
   "metadata": {},
   "source": [
    "### **Section 3: Data Cleaning** ##"
   ]
  },
  {
   "cell_type": "code",
   "execution_count": null,
   "id": "b3b0557a",
   "metadata": {},
   "outputs": [],
   "source": []
  }
 ],
 "metadata": {
  "kernelspec": {
   "display_name": "Python 3",
   "language": "python",
   "name": "python3"
  },
  "language_info": {
   "codemirror_mode": {
    "name": "ipython",
    "version": 3
   },
   "file_extension": ".py",
   "mimetype": "text/x-python",
   "name": "python",
   "nbconvert_exporter": "python",
   "pygments_lexer": "ipython3",
   "version": "3.11.9"
  }
 },
 "nbformat": 4,
 "nbformat_minor": 5
}
